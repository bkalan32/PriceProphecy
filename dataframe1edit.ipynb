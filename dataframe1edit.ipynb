{
 "cells": [
  {
   "cell_type": "code",
   "execution_count": 2,
   "metadata": {},
   "outputs": [],
   "source": [
    "from pathlib import Path\n",
    "import pandas as pd"
   ]
  },
  {
   "cell_type": "code",
   "execution_count": 12,
   "metadata": {},
   "outputs": [],
   "source": [
    "df2_path = ('Resources/redfin_usa_properties_dataset_sample.csv')\n",
    "df2 = pd.read_csv(df2_path)\n",
    "df2 = df2.drop(columns=['url','name','formatted_price',\n",
    "                        'description','property_details',\n",
    "                        'images','uniq_id','listed_by','latitude',\n",
    "                        'longitude','scraped_at','currency','address','locality',\n",
    "                        \"country\"\n",
    "                        ])\n",
    "df2['lot_size'] = ''\n",
    "df2['year_built'] = \"\"\n",
    "df2\n",
    "df2.to_csv('Real_estate_data.csv')\n",
    "\n"
   ]
  }
 ],
 "metadata": {
  "kernelspec": {
   "display_name": "dev",
   "language": "python",
   "name": "python3"
  },
  "language_info": {
   "codemirror_mode": {
    "name": "ipython",
    "version": 3
   },
   "file_extension": ".py",
   "mimetype": "text/x-python",
   "name": "python",
   "nbconvert_exporter": "python",
   "pygments_lexer": "ipython3",
   "version": "3.7.13"
  },
  "orig_nbformat": 4
 },
 "nbformat": 4,
 "nbformat_minor": 2
}
